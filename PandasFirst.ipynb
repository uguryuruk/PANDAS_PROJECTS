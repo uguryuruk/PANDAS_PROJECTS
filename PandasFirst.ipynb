{
 "cells": [
  {
   "cell_type": "markdown",
   "metadata": {},
   "source": [
    "PANDAS SERIES"
   ]
  },
  {
   "cell_type": "code",
   "execution_count": 2,
   "metadata": {},
   "outputs": [],
   "source": [
    "import pandas as pd"
   ]
  },
  {
   "cell_type": "code",
   "execution_count": 3,
   "metadata": {},
   "outputs": [
    {
     "data": {
      "text/plain": [
       "(5,)"
      ]
     },
     "execution_count": 3,
     "metadata": {},
     "output_type": "execute_result"
    }
   ],
   "source": [
    "# listeleri indexli hale getirir.\n",
    "x=[1,2,3,5,6]\n",
    "x=pd.Series(x)\n",
    "x.shape"
   ]
  },
  {
   "cell_type": "code",
   "execution_count": 5,
   "metadata": {},
   "outputs": [],
   "source": [
    "ulke=[\"abd\",\"çin\",\"Türkiye\",\"fransa\"]\n",
    "ulke=pd.Series(ulke)"
   ]
  },
  {
   "cell_type": "code",
   "execution_count": 6,
   "metadata": {},
   "outputs": [
    {
     "data": {
      "text/plain": [
       "0     True\n",
       "1     True\n",
       "2    False\n",
       "dtype: bool"
      ]
     },
     "execution_count": 6,
     "metadata": {},
     "output_type": "execute_result"
    }
   ],
   "source": [
    "d=[True,True,False]\n",
    "pd.Series(d)"
   ]
  },
  {
   "cell_type": "code",
   "execution_count": 7,
   "metadata": {},
   "outputs": [
    {
     "data": {
      "text/plain": [
       "ABD        80000\n",
       "Almanya    50000\n",
       "Türkiye    15000\n",
       "dtype: int64"
      ]
     },
     "execution_count": 7,
     "metadata": {},
     "output_type": "execute_result"
    }
   ],
   "source": [
    "gelir={\n",
    "    \"ABD\":80000,\n",
    "    \"Almanya\":50000,\n",
    "    \"Türkiye\":15000\n",
    "}\n",
    "pd.Series(gelir)"
   ]
  },
  {
   "cell_type": "code",
   "execution_count": 6,
   "metadata": {},
   "outputs": [
    {
     "data": {
      "text/plain": [
       "0        abd\n",
       "1        çin\n",
       "2    Türkiye\n",
       "3     fransa\n",
       "Name: Ülkeler, dtype: object"
      ]
     },
     "execution_count": 6,
     "metadata": {},
     "output_type": "execute_result"
    }
   ],
   "source": [
    "ulke.values\n",
    "ulke.index\n",
    "ulke.dtype\n",
    "ulke.name=\"Ülkeler\"\n",
    "ulke.head()"
   ]
  },
  {
   "cell_type": "markdown",
   "metadata": {},
   "source": [
    "PARAMETRE VE ARGÜMANLAR"
   ]
  },
  {
   "cell_type": "code",
   "execution_count": 2,
   "metadata": {},
   "outputs": [
    {
     "data": {
      "text/plain": [
       "10000    2015\n",
       "20000    2016\n",
       "30000    2017\n",
       "40000    2018\n",
       "50000    2019\n",
       "dtype: int64"
      ]
     },
     "execution_count": 2,
     "metadata": {},
     "output_type": "execute_result"
    }
   ],
   "source": [
    "yillar=[2015,2016,2017,2018,2019]\n",
    "gelir=[10000,20000,30000,40000,50000]\n",
    "\n",
    "pd.Series(data=yillar,index=gelir)\n",
    "pd.Series(data=gelir,index=yillar)"
   ]
  },
  {
   "cell_type": "code",
   "execution_count": 4,
   "metadata": {},
   "outputs": [
    {
     "data": {
      "text/plain": [
       "0     1.0\n",
       "1     2.0\n",
       "2     4.0\n",
       "3     6.0\n",
       "4     8.3\n",
       "5    34.0\n",
       "dtype: float64"
      ]
     },
     "execution_count": 4,
     "metadata": {},
     "output_type": "execute_result"
    }
   ],
   "source": [
    "sayi=[1,2,4,6,8.3,34]\n",
    "sayi=pd.Series(sayi)\n",
    "sayi"
   ]
  },
  {
   "cell_type": "code",
   "execution_count": 7,
   "metadata": {},
   "outputs": [
    {
     "data": {
      "text/plain": [
       "13545.6"
      ]
     },
     "execution_count": 7,
     "metadata": {},
     "output_type": "execute_result"
    }
   ],
   "source": [
    "sayi.std()\n",
    "sayi.mean()\n",
    "sayi.sum()\n",
    "sayi.max()\n",
    "sayi.min()\n",
    "sayi.product()"
   ]
  },
  {
   "cell_type": "markdown",
   "metadata": {},
   "source": [
    "READ_CSV, HEAD, TAIL"
   ]
  },
  {
   "cell_type": "code",
   "execution_count": 12,
   "metadata": {},
   "outputs": [
    {
     "data": {
      "text/html": [
       "<div>\n",
       "<style scoped>\n",
       "    .dataframe tbody tr th:only-of-type {\n",
       "        vertical-align: middle;\n",
       "    }\n",
       "\n",
       "    .dataframe tbody tr th {\n",
       "        vertical-align: top;\n",
       "    }\n",
       "\n",
       "    .dataframe thead th {\n",
       "        text-align: right;\n",
       "    }\n",
       "</style>\n",
       "<table border=\"1\" class=\"dataframe\">\n",
       "  <thead>\n",
       "    <tr style=\"text-align: right;\">\n",
       "      <th></th>\n",
       "      <th>KisiId</th>\n",
       "      <th>KisiAdSoyad</th>\n",
       "      <th>YUNumarasi</th>\n",
       "      <th>Uyruk</th>\n",
       "      <th>DogumUlke</th>\n",
       "      <th>DogumTarihi</th>\n",
       "      <th>Cinsiyet</th>\n",
       "    </tr>\n",
       "  </thead>\n",
       "  <tbody>\n",
       "    <tr>\n",
       "      <th>0</th>\n",
       "      <td>1160</td>\n",
       "      <td>FAIMA AL BAYATI</td>\n",
       "      <td>9.941691e+10</td>\n",
       "      <td>Iraq</td>\n",
       "      <td>Iraq</td>\n",
       "      <td>24/05/2000</td>\n",
       "      <td>Kadın</td>\n",
       "    </tr>\n",
       "    <tr>\n",
       "      <th>1</th>\n",
       "      <td>1027</td>\n",
       "      <td>ZAINAB HAYDER MAJEED FULFULI</td>\n",
       "      <td>9.902997e+10</td>\n",
       "      <td>Iraq</td>\n",
       "      <td>Iraq</td>\n",
       "      <td>23/01/2002</td>\n",
       "      <td>Kadın</td>\n",
       "    </tr>\n",
       "    <tr>\n",
       "      <th>2</th>\n",
       "      <td>1277</td>\n",
       "      <td>HASHIM KHUDHAIR IBRAHEEM</td>\n",
       "      <td>9.958683e+10</td>\n",
       "      <td>Iraq</td>\n",
       "      <td>Iraq</td>\n",
       "      <td>06/05/1995</td>\n",
       "      <td>Erkek</td>\n",
       "    </tr>\n",
       "    <tr>\n",
       "      <th>3</th>\n",
       "      <td>1351</td>\n",
       "      <td>SARA SALAHALDEEN MAHDE YASSAR</td>\n",
       "      <td>9.935550e+10</td>\n",
       "      <td>Iraq</td>\n",
       "      <td>Iraq</td>\n",
       "      <td>02/06/1996</td>\n",
       "      <td>Kadın</td>\n",
       "    </tr>\n",
       "    <tr>\n",
       "      <th>4</th>\n",
       "      <td>3298</td>\n",
       "      <td>ABDULSALAM HAMAD SULTAN ALSADOON</td>\n",
       "      <td>9.907428e+10</td>\n",
       "      <td>Iraq</td>\n",
       "      <td>Iraq</td>\n",
       "      <td>19/08/1997</td>\n",
       "      <td>Erkek</td>\n",
       "    </tr>\n",
       "    <tr>\n",
       "      <th>...</th>\n",
       "      <td>...</td>\n",
       "      <td>...</td>\n",
       "      <td>...</td>\n",
       "      <td>...</td>\n",
       "      <td>...</td>\n",
       "      <td>...</td>\n",
       "      <td>...</td>\n",
       "    </tr>\n",
       "    <tr>\n",
       "      <th>83</th>\n",
       "      <td>24752</td>\n",
       "      <td>ALMUSTAFA ESSMAT AL JASHAAMI</td>\n",
       "      <td>9.955038e+10</td>\n",
       "      <td>Iraq</td>\n",
       "      <td>Iraq</td>\n",
       "      <td>21/03/1999</td>\n",
       "      <td>Erkek</td>\n",
       "    </tr>\n",
       "    <tr>\n",
       "      <th>84</th>\n",
       "      <td>26398</td>\n",
       "      <td>HUDA AHMED ABBOOD ALKARKHI</td>\n",
       "      <td>9.976682e+10</td>\n",
       "      <td>Iraq</td>\n",
       "      <td>Iraq</td>\n",
       "      <td>05/04/1999</td>\n",
       "      <td>Kadın</td>\n",
       "    </tr>\n",
       "    <tr>\n",
       "      <th>85</th>\n",
       "      <td>26685</td>\n",
       "      <td>ABDULRHMAN SAMI ALSAMRAEY</td>\n",
       "      <td>9.922718e+10</td>\n",
       "      <td>Iraq</td>\n",
       "      <td>Iraq</td>\n",
       "      <td>12/04/1998</td>\n",
       "      <td>Erkek</td>\n",
       "    </tr>\n",
       "    <tr>\n",
       "      <th>86</th>\n",
       "      <td>26773</td>\n",
       "      <td>HASHIM MOHAMMED HASHIM AL KHAYYAT</td>\n",
       "      <td>9.947981e+10</td>\n",
       "      <td>Iraq</td>\n",
       "      <td>Iraq</td>\n",
       "      <td>16/04/2002</td>\n",
       "      <td>Erkek</td>\n",
       "    </tr>\n",
       "    <tr>\n",
       "      <th>87</th>\n",
       "      <td>26824</td>\n",
       "      <td>MOHAMMED JANABI ALBUAWAYF</td>\n",
       "      <td>9.950357e+10</td>\n",
       "      <td>Iraq</td>\n",
       "      <td>Iraq</td>\n",
       "      <td>06/01/2001</td>\n",
       "      <td>Erkek</td>\n",
       "    </tr>\n",
       "  </tbody>\n",
       "</table>\n",
       "<p>88 rows × 7 columns</p>\n",
       "</div>"
      ],
      "text/plain": [
       "    KisiId                        KisiAdSoyad    YUNumarasi Uyruk DogumUlke  \\\n",
       "0     1160                    FAIMA AL BAYATI  9.941691e+10  Iraq      Iraq   \n",
       "1     1027       ZAINAB HAYDER MAJEED FULFULI  9.902997e+10  Iraq      Iraq   \n",
       "2     1277           HASHIM KHUDHAIR IBRAHEEM  9.958683e+10  Iraq      Iraq   \n",
       "3     1351      SARA SALAHALDEEN MAHDE YASSAR  9.935550e+10  Iraq      Iraq   \n",
       "4     3298   ABDULSALAM HAMAD SULTAN ALSADOON  9.907428e+10  Iraq      Iraq   \n",
       "..     ...                                ...           ...   ...       ...   \n",
       "83   24752       ALMUSTAFA ESSMAT AL JASHAAMI  9.955038e+10  Iraq      Iraq   \n",
       "84   26398         HUDA AHMED ABBOOD ALKARKHI  9.976682e+10  Iraq      Iraq   \n",
       "85   26685          ABDULRHMAN SAMI ALSAMRAEY  9.922718e+10  Iraq      Iraq   \n",
       "86   26773  HASHIM MOHAMMED HASHIM AL KHAYYAT  9.947981e+10  Iraq      Iraq   \n",
       "87   26824          MOHAMMED JANABI ALBUAWAYF  9.950357e+10  Iraq      Iraq   \n",
       "\n",
       "   DogumTarihi Cinsiyet  \n",
       "0   24/05/2000    Kadın  \n",
       "1   23/01/2002    Kadın  \n",
       "2   06/05/1995    Erkek  \n",
       "3   02/06/1996    Kadın  \n",
       "4   19/08/1997    Erkek  \n",
       "..         ...      ...  \n",
       "83  21/03/1999    Erkek  \n",
       "84  05/04/1999    Kadın  \n",
       "85  12/04/1998    Erkek  \n",
       "86  16/04/2002    Erkek  \n",
       "87  06/01/2001    Erkek  \n",
       "\n",
       "[88 rows x 7 columns]"
      ]
     },
     "execution_count": 12,
     "metadata": {},
     "output_type": "execute_result"
    }
   ],
   "source": [
    "kisi=pd.read_csv(\"deneme.csv\")\n",
    "kisi"
   ]
  },
  {
   "cell_type": "code",
   "execution_count": 26,
   "metadata": {},
   "outputs": [
    {
     "data": {
      "text/html": [
       "<div>\n",
       "<style scoped>\n",
       "    .dataframe tbody tr th:only-of-type {\n",
       "        vertical-align: middle;\n",
       "    }\n",
       "\n",
       "    .dataframe tbody tr th {\n",
       "        vertical-align: top;\n",
       "    }\n",
       "\n",
       "    .dataframe thead th {\n",
       "        text-align: right;\n",
       "    }\n",
       "</style>\n",
       "<table border=\"1\" class=\"dataframe\">\n",
       "  <thead>\n",
       "    <tr style=\"text-align: right;\">\n",
       "      <th></th>\n",
       "      <th>Milli Gelir</th>\n",
       "    </tr>\n",
       "  </thead>\n",
       "  <tbody>\n",
       "    <tr>\n",
       "      <th>0</th>\n",
       "      <td>20410000</td>\n",
       "    </tr>\n",
       "    <tr>\n",
       "      <th>1</th>\n",
       "      <td>14090000</td>\n",
       "    </tr>\n",
       "    <tr>\n",
       "      <th>2</th>\n",
       "      <td>5170000</td>\n",
       "    </tr>\n",
       "    <tr>\n",
       "      <th>3</th>\n",
       "      <td>4210000</td>\n",
       "    </tr>\n",
       "    <tr>\n",
       "      <th>4</th>\n",
       "      <td>2940000</td>\n",
       "    </tr>\n",
       "    <tr>\n",
       "      <th>5</th>\n",
       "      <td>2930000</td>\n",
       "    </tr>\n",
       "    <tr>\n",
       "      <th>6</th>\n",
       "      <td>2850000</td>\n",
       "    </tr>\n",
       "    <tr>\n",
       "      <th>7</th>\n",
       "      <td>2180000</td>\n",
       "    </tr>\n",
       "    <tr>\n",
       "      <th>8</th>\n",
       "      <td>2140000</td>\n",
       "    </tr>\n",
       "    <tr>\n",
       "      <th>9</th>\n",
       "      <td>1800000</td>\n",
       "    </tr>\n",
       "  </tbody>\n",
       "</table>\n",
       "</div>"
      ],
      "text/plain": [
       "   Milli Gelir\n",
       "0     20410000\n",
       "1     14090000\n",
       "2      5170000\n",
       "3      4210000\n",
       "4      2940000\n",
       "5      2930000\n",
       "6      2850000\n",
       "7      2180000\n",
       "8      2140000\n",
       "9      1800000"
      ]
     },
     "execution_count": 26,
     "metadata": {},
     "output_type": "execute_result"
    }
   ],
   "source": [
    "gelir=pd.read_csv(\"./pandas/milligelir.csv\")\n",
    "gelir\n",
    "gelir.head()\n",
    "gelir.head(10)"
   ]
  },
  {
   "cell_type": "code",
   "execution_count": 7,
   "metadata": {},
   "outputs": [
    {
     "data": {
      "text/html": [
       "<div>\n",
       "<style scoped>\n",
       "    .dataframe tbody tr th:only-of-type {\n",
       "        vertical-align: middle;\n",
       "    }\n",
       "\n",
       "    .dataframe tbody tr th {\n",
       "        vertical-align: top;\n",
       "    }\n",
       "\n",
       "    .dataframe thead th {\n",
       "        text-align: right;\n",
       "    }\n",
       "</style>\n",
       "<table border=\"1\" class=\"dataframe\">\n",
       "  <thead>\n",
       "    <tr style=\"text-align: right;\">\n",
       "      <th></th>\n",
       "      <th>Milli Gelir</th>\n",
       "    </tr>\n",
       "  </thead>\n",
       "  <tbody>\n",
       "    <tr>\n",
       "      <th>10</th>\n",
       "      <td>1720000</td>\n",
       "    </tr>\n",
       "    <tr>\n",
       "      <th>11</th>\n",
       "      <td>1690000</td>\n",
       "    </tr>\n",
       "    <tr>\n",
       "      <th>12</th>\n",
       "      <td>1510000</td>\n",
       "    </tr>\n",
       "    <tr>\n",
       "      <th>13</th>\n",
       "      <td>1500000</td>\n",
       "    </tr>\n",
       "    <tr>\n",
       "      <th>14</th>\n",
       "      <td>1210000</td>\n",
       "    </tr>\n",
       "    <tr>\n",
       "      <th>15</th>\n",
       "      <td>1070000</td>\n",
       "    </tr>\n",
       "    <tr>\n",
       "      <th>16</th>\n",
       "      <td>945000</td>\n",
       "    </tr>\n",
       "    <tr>\n",
       "      <th>17</th>\n",
       "      <td>910000</td>\n",
       "    </tr>\n",
       "    <tr>\n",
       "      <th>18</th>\n",
       "      <td>748000</td>\n",
       "    </tr>\n",
       "    <tr>\n",
       "      <th>19</th>\n",
       "      <td>741000</td>\n",
       "    </tr>\n",
       "  </tbody>\n",
       "</table>\n",
       "</div>"
      ],
      "text/plain": [
       "    Milli Gelir\n",
       "10      1720000\n",
       "11      1690000\n",
       "12      1510000\n",
       "13      1500000\n",
       "14      1210000\n",
       "15      1070000\n",
       "16       945000\n",
       "17       910000\n",
       "18       748000\n",
       "19       741000"
      ]
     },
     "execution_count": 7,
     "metadata": {},
     "output_type": "execute_result"
    }
   ],
   "source": [
    "gelir.tail()\n",
    "gelir.tail(10)"
   ]
  },
  {
   "cell_type": "markdown",
   "metadata": {},
   "source": [
    "BUILT IN FUNCTIONS"
   ]
  },
  {
   "cell_type": "code",
   "execution_count": 16,
   "metadata": {},
   "outputs": [
    {
     "data": {
      "text/plain": [
       "{0: 'ABD',\n",
       " 1: 'Çin',\n",
       " 2: 'Japonya',\n",
       " 3: 'Almanya',\n",
       " 4: 'İngiltere',\n",
       " 5: 'Fransa',\n",
       " 6: 'Hindistan',\n",
       " 7: 'İtalya',\n",
       " 8: 'Brezilya',\n",
       " 9: 'Kanada',\n",
       " 10: 'Rusya',\n",
       " 11: 'GÜney Kore',\n",
       " 12: 'İspanya',\n",
       " 13: 'Avusturalya',\n",
       " 14: 'Meksika',\n",
       " 15: 'Endonezya',\n",
       " 16: 'Hollanda',\n",
       " 17: 'Türkiye',\n",
       " 18: 'Suudi Arabistan',\n",
       " 19: 'İsviçre'}"
      ]
     },
     "execution_count": 16,
     "metadata": {},
     "output_type": "execute_result"
    }
   ],
   "source": [
    "ulke=pd.read_csv(\"./pandas/ulke.csv\")\n",
    "ulke=ulke.squeeze(\"columns\")\n",
    "# gelir=gelir.squeeze(\"columns\")\n",
    "ulke\n",
    "len(ulke)\n",
    "list(ulke)\n",
    "sorted(ulke)\n",
    "type(ulke)\n",
    "dict(ulke)"
   ]
  },
  {
   "cell_type": "markdown",
   "metadata": {},
   "source": [
    "sort_values(), inplace ve in"
   ]
  },
  {
   "cell_type": "code",
   "execution_count": 17,
   "metadata": {},
   "outputs": [
    {
     "data": {
      "text/plain": [
       "0                 ABD\n",
       "3             Almanya\n",
       "13        Avusturalya\n",
       "8            Brezilya\n",
       "15          Endonezya\n",
       "5              Fransa\n",
       "11         GÜney Kore\n",
       "6           Hindistan\n",
       "16           Hollanda\n",
       "2             Japonya\n",
       "9              Kanada\n",
       "14            Meksika\n",
       "10              Rusya\n",
       "18    Suudi Arabistan\n",
       "17            Türkiye\n",
       "1                 Çin\n",
       "4           İngiltere\n",
       "12            İspanya\n",
       "19            İsviçre\n",
       "7              İtalya\n",
       "Name: Ülke, dtype: object"
      ]
     },
     "execution_count": 17,
     "metadata": {},
     "output_type": "execute_result"
    }
   ],
   "source": [
    "ulke.sort_values()\n",
    "# gelir.sort_values(ascending=False)"
   ]
  },
  {
   "cell_type": "code",
   "execution_count": 31,
   "metadata": {},
   "outputs": [],
   "source": [
    "# yeni işleme göre kaydetmesi için:\n",
    "# yeni_gelir=gelir.sort_values(inplace=True)\n",
    "# yeni_gelir"
   ]
  },
  {
   "cell_type": "code",
   "execution_count": 18,
   "metadata": {},
   "outputs": [
    {
     "ename": "NameError",
     "evalue": "name 'gelir' is not defined",
     "output_type": "error",
     "traceback": [
      "\u001b[1;31m---------------------------------------------------------------------------\u001b[0m",
      "\u001b[1;31mNameError\u001b[0m                                 Traceback (most recent call last)",
      "Cell \u001b[1;32mIn[18], line 1\u001b[0m\n\u001b[1;32m----> 1\u001b[0m gelir\u001b[39m.\u001b[39msort_index()\n",
      "\u001b[1;31mNameError\u001b[0m: name 'gelir' is not defined"
     ]
    }
   ],
   "source": [
    "gelir.sort_index()"
   ]
  },
  {
   "cell_type": "code",
   "execution_count": 20,
   "metadata": {},
   "outputs": [
    {
     "data": {
      "text/plain": [
       "True"
      ]
     },
     "execution_count": 20,
     "metadata": {},
     "output_type": "execute_result"
    }
   ],
   "source": [
    "\"ABD\" in ulke\n",
    "\"ABD\" in ulke.values\n"
   ]
  },
  {
   "cell_type": "markdown",
   "metadata": {},
   "source": [
    "INDEKSLEME VE MATEMATİKSEL İŞLEMLER"
   ]
  },
  {
   "cell_type": "code",
   "execution_count": 22,
   "metadata": {},
   "outputs": [
    {
     "data": {
      "text/plain": [
       "0          ABD\n",
       "1          Çin\n",
       "2      Japonya\n",
       "3      Almanya\n",
       "4    İngiltere\n",
       "5       Fransa\n",
       "6    Hindistan\n",
       "7       İtalya\n",
       "8     Brezilya\n",
       "9       Kanada\n",
       "Name: Ülke, dtype: object"
      ]
     },
     "execution_count": 22,
     "metadata": {},
     "output_type": "execute_result"
    }
   ],
   "source": [
    "# satır alma\n",
    "ulke[5]\n",
    "ulke[:10]"
   ]
  },
  {
   "cell_type": "code",
   "execution_count": 44,
   "metadata": {},
   "outputs": [
    {
     "data": {
      "text/plain": [
       "count    2.000000e+01\n",
       "mean     3.538200e+06\n",
       "std      4.935789e+06\n",
       "min      7.410000e+05\n",
       "25%      1.175000e+06\n",
       "50%      1.760000e+06\n",
       "75%      2.932500e+06\n",
       "max      2.041000e+07\n",
       "Name: Milli Gelir, dtype: float64"
      ]
     },
     "execution_count": 44,
     "metadata": {},
     "output_type": "execute_result"
    }
   ],
   "source": [
    "gelir.count()\n",
    "gelir.sum()\n",
    "gelir.mean()\n",
    "gelir.std()\n",
    "gelir.median()\n",
    "gelir.describe()"
   ]
  },
  {
   "cell_type": "markdown",
   "metadata": {},
   "source": [
    "ÇEŞİTLİ METOTLAR (value_count(), idxmax(), idxmin() ve apply())"
   ]
  },
  {
   "cell_type": "code",
   "execution_count": 25,
   "metadata": {},
   "outputs": [
    {
     "data": {
      "text/plain": [
       "KITA\n",
       "Güney Amerika    1\n",
       "Okyanusya        1\n",
       "Kuzey Amerika    3\n",
       "Asya             7\n",
       "Avrupa           8\n",
       "Name: count, dtype: int64"
      ]
     },
     "execution_count": 25,
     "metadata": {},
     "output_type": "execute_result"
    }
   ],
   "source": [
    "kita=pd.read_csv(\"./pandas/KITA.csv\").squeeze(\"columns\")\n",
    "kita\n",
    "kita.value_counts(ascending=True)"
   ]
  },
  {
   "cell_type": "code",
   "execution_count": 30,
   "metadata": {},
   "outputs": [
    {
     "data": {
      "text/plain": [
       "Milli Gelir    19\n",
       "dtype: int64"
      ]
     },
     "execution_count": 30,
     "metadata": {},
     "output_type": "execute_result"
    }
   ],
   "source": [
    "# min ve max değerler hangi indekslerde\n",
    "gelir.idxmax()\n",
    "gelir.idxmin()\n",
    "# gelir[gelir.idxmax()]"
   ]
  },
  {
   "cell_type": "code",
   "execution_count": 52,
   "metadata": {},
   "outputs": [
    {
     "data": {
      "text/plain": [
       "0     çok yüksek\n",
       "1     çok yüksek\n",
       "2     çok yüksek\n",
       "3         yüksek\n",
       "4         yüksek\n",
       "5         yüksek\n",
       "6         yüksek\n",
       "7         yüksek\n",
       "8         yüksek\n",
       "9           orta\n",
       "10          orta\n",
       "11          orta\n",
       "12          orta\n",
       "13          orta\n",
       "14          orta\n",
       "15          orta\n",
       "16          orta\n",
       "17          orta\n",
       "18          orta\n",
       "19          orta\n",
       "Name: Milli Gelir, dtype: object"
      ]
     },
     "execution_count": 52,
     "metadata": {},
     "output_type": "execute_result"
    }
   ],
   "source": [
    "def sinif(inc):\n",
    "    if inc<2_000_000:\n",
    "        return \"orta\"\n",
    "    elif 5_000_000>= inc >= 2_000_000:\n",
    "        return \"yüksek\"\n",
    "    else:\n",
    "        return \"çok yüksek\"\n",
    "    \n",
    "gelir.apply(sinif)"
   ]
  },
  {
   "cell_type": "markdown",
   "metadata": {},
   "source": [
    "DATAFRAMES"
   ]
  },
  {
   "cell_type": "code",
   "execution_count": 32,
   "metadata": {},
   "outputs": [
    {
     "data": {
      "text/html": [
       "<div>\n",
       "<style scoped>\n",
       "    .dataframe tbody tr th:only-of-type {\n",
       "        vertical-align: middle;\n",
       "    }\n",
       "\n",
       "    .dataframe tbody tr th {\n",
       "        vertical-align: top;\n",
       "    }\n",
       "\n",
       "    .dataframe thead th {\n",
       "        text-align: right;\n",
       "    }\n",
       "</style>\n",
       "<table border=\"1\" class=\"dataframe\">\n",
       "  <thead>\n",
       "    <tr style=\"text-align: right;\">\n",
       "      <th></th>\n",
       "      <th>Ülke</th>\n",
       "      <th>Gelir</th>\n",
       "      <th>Nüfus</th>\n",
       "      <th>Kişi Başına</th>\n",
       "      <th>KITA</th>\n",
       "    </tr>\n",
       "  </thead>\n",
       "  <tbody>\n",
       "    <tr>\n",
       "      <th>0</th>\n",
       "      <td>ABD</td>\n",
       "      <td>20410000</td>\n",
       "      <td>323,766</td>\n",
       "      <td>63039</td>\n",
       "      <td>Kuzey Amerika</td>\n",
       "    </tr>\n",
       "    <tr>\n",
       "      <th>1</th>\n",
       "      <td>Çin</td>\n",
       "      <td>14090000</td>\n",
       "      <td>1415,045</td>\n",
       "      <td>9957</td>\n",
       "      <td>Asya</td>\n",
       "    </tr>\n",
       "    <tr>\n",
       "      <th>2</th>\n",
       "      <td>Japonya</td>\n",
       "      <td>5170000</td>\n",
       "      <td>127,185</td>\n",
       "      <td>40649</td>\n",
       "      <td>Asya</td>\n",
       "    </tr>\n",
       "    <tr>\n",
       "      <th>3</th>\n",
       "      <td>Almanya</td>\n",
       "      <td>4210000</td>\n",
       "      <td>82,293</td>\n",
       "      <td>51158</td>\n",
       "      <td>Avrupa</td>\n",
       "    </tr>\n",
       "    <tr>\n",
       "      <th>4</th>\n",
       "      <td>İngiltere</td>\n",
       "      <td>2940000</td>\n",
       "      <td>66,573</td>\n",
       "      <td>44162</td>\n",
       "      <td>Avrupa</td>\n",
       "    </tr>\n",
       "    <tr>\n",
       "      <th>5</th>\n",
       "      <td>Fransa</td>\n",
       "      <td>2930000</td>\n",
       "      <td>65,233</td>\n",
       "      <td>44915</td>\n",
       "      <td>Avrupa</td>\n",
       "    </tr>\n",
       "    <tr>\n",
       "      <th>6</th>\n",
       "      <td>Hindistan</td>\n",
       "      <td>2850000</td>\n",
       "      <td>1354,051</td>\n",
       "      <td>2104</td>\n",
       "      <td>Asya</td>\n",
       "    </tr>\n",
       "    <tr>\n",
       "      <th>7</th>\n",
       "      <td>İtalya</td>\n",
       "      <td>2180000</td>\n",
       "      <td>59,29</td>\n",
       "      <td>36768</td>\n",
       "      <td>Avrupa</td>\n",
       "    </tr>\n",
       "    <tr>\n",
       "      <th>8</th>\n",
       "      <td>Brezilya</td>\n",
       "      <td>2140000</td>\n",
       "      <td>210,867</td>\n",
       "      <td>10148</td>\n",
       "      <td>Güney Amerika</td>\n",
       "    </tr>\n",
       "    <tr>\n",
       "      <th>9</th>\n",
       "      <td>Kanada</td>\n",
       "      <td>1800000</td>\n",
       "      <td>36,953</td>\n",
       "      <td>48710</td>\n",
       "      <td>Kuzey Amerika</td>\n",
       "    </tr>\n",
       "    <tr>\n",
       "      <th>10</th>\n",
       "      <td>Rusya</td>\n",
       "      <td>1720000</td>\n",
       "      <td>143,967</td>\n",
       "      <td>11947</td>\n",
       "      <td>Avrupa</td>\n",
       "    </tr>\n",
       "    <tr>\n",
       "      <th>11</th>\n",
       "      <td>GÜney Kore</td>\n",
       "      <td>1690000</td>\n",
       "      <td>51,164</td>\n",
       "      <td>33031</td>\n",
       "      <td>Asya</td>\n",
       "    </tr>\n",
       "    <tr>\n",
       "      <th>12</th>\n",
       "      <td>İspanya</td>\n",
       "      <td>1510000</td>\n",
       "      <td>46,397</td>\n",
       "      <td>32545</td>\n",
       "      <td>Avrupa</td>\n",
       "    </tr>\n",
       "    <tr>\n",
       "      <th>13</th>\n",
       "      <td>Avusturalya</td>\n",
       "      <td>1500000</td>\n",
       "      <td>24,772</td>\n",
       "      <td>60552</td>\n",
       "      <td>Okyanusya</td>\n",
       "    </tr>\n",
       "    <tr>\n",
       "      <th>14</th>\n",
       "      <td>Meksika</td>\n",
       "      <td>1210000</td>\n",
       "      <td>130,759</td>\n",
       "      <td>9253</td>\n",
       "      <td>Kuzey Amerika</td>\n",
       "    </tr>\n",
       "    <tr>\n",
       "      <th>15</th>\n",
       "      <td>Endonezya</td>\n",
       "      <td>1070000</td>\n",
       "      <td>266,794</td>\n",
       "      <td>4010</td>\n",
       "      <td>Asya</td>\n",
       "    </tr>\n",
       "    <tr>\n",
       "      <th>16</th>\n",
       "      <td>Hollanda</td>\n",
       "      <td>945000</td>\n",
       "      <td>17,084</td>\n",
       "      <td>55314</td>\n",
       "      <td>Avrupa</td>\n",
       "    </tr>\n",
       "    <tr>\n",
       "      <th>17</th>\n",
       "      <td>Türkiye</td>\n",
       "      <td>910000</td>\n",
       "      <td>81,916</td>\n",
       "      <td>11108</td>\n",
       "      <td>Asya</td>\n",
       "    </tr>\n",
       "    <tr>\n",
       "      <th>18</th>\n",
       "      <td>Suudi Arabistan</td>\n",
       "      <td>748000</td>\n",
       "      <td>33,554</td>\n",
       "      <td>22292</td>\n",
       "      <td>Asya</td>\n",
       "    </tr>\n",
       "    <tr>\n",
       "      <th>19</th>\n",
       "      <td>İsviçre</td>\n",
       "      <td>741000</td>\n",
       "      <td>8,554</td>\n",
       "      <td>86626</td>\n",
       "      <td>Avrupa</td>\n",
       "    </tr>\n",
       "  </tbody>\n",
       "</table>\n",
       "</div>"
      ],
      "text/plain": [
       "               Ülke     Gelir     Nüfus  Kişi Başına           KITA\n",
       "0               ABD  20410000   323,766        63039  Kuzey Amerika\n",
       "1               Çin  14090000  1415,045         9957           Asya\n",
       "2           Japonya   5170000   127,185        40649           Asya\n",
       "3           Almanya   4210000    82,293        51158         Avrupa\n",
       "4         İngiltere   2940000    66,573        44162         Avrupa\n",
       "5            Fransa   2930000    65,233        44915         Avrupa\n",
       "6         Hindistan   2850000  1354,051         2104           Asya\n",
       "7            İtalya   2180000     59,29        36768         Avrupa\n",
       "8          Brezilya   2140000   210,867        10148  Güney Amerika\n",
       "9            Kanada   1800000    36,953        48710  Kuzey Amerika\n",
       "10            Rusya   1720000   143,967        11947         Avrupa\n",
       "11       GÜney Kore   1690000    51,164        33031           Asya\n",
       "12          İspanya   1510000    46,397        32545         Avrupa\n",
       "13      Avusturalya   1500000    24,772        60552      Okyanusya\n",
       "14          Meksika   1210000   130,759         9253  Kuzey Amerika\n",
       "15        Endonezya   1070000   266,794         4010           Asya\n",
       "16         Hollanda    945000    17,084        55314         Avrupa\n",
       "17          Türkiye    910000    81,916        11108           Asya\n",
       "18  Suudi Arabistan    748000    33,554        22292           Asya\n",
       "19          İsviçre    741000     8,554        86626         Avrupa"
      ]
     },
     "execution_count": 32,
     "metadata": {},
     "output_type": "execute_result"
    }
   ],
   "source": [
    "country=pd.read_csv(\"./pandas/dunya.csv\")\n",
    "country"
   ]
  },
  {
   "cell_type": "code",
   "execution_count": 40,
   "metadata": {},
   "outputs": [
    {
     "name": "stdout",
     "output_type": "stream",
     "text": [
      "<class 'pandas.core.frame.DataFrame'>\n",
      "RangeIndex: 20 entries, 0 to 19\n",
      "Data columns (total 5 columns):\n",
      " #   Column       Non-Null Count  Dtype \n",
      "---  ------       --------------  ----- \n",
      " 0   Ülke         20 non-null     object\n",
      " 1   Gelir        20 non-null     int64 \n",
      " 2   Nüfus        20 non-null     object\n",
      " 3   Kişi Başına  20 non-null     int64 \n",
      " 4   KITA         20 non-null     object\n",
      "dtypes: int64(2), object(3)\n",
      "memory usage: 932.0+ bytes\n"
     ]
    }
   ],
   "source": [
    "country.head()\n",
    "country.tail()\n",
    "country.index\n",
    "country.shape\n",
    "country.columns\n",
    "country.info()\n",
    "# country.axes"
   ]
  },
  {
   "cell_type": "code",
   "execution_count": 68,
   "metadata": {},
   "outputs": [
    {
     "data": {
      "text/html": [
       "<div>\n",
       "<style scoped>\n",
       "    .dataframe tbody tr th:only-of-type {\n",
       "        vertical-align: middle;\n",
       "    }\n",
       "\n",
       "    .dataframe tbody tr th {\n",
       "        vertical-align: top;\n",
       "    }\n",
       "\n",
       "    .dataframe thead th {\n",
       "        text-align: right;\n",
       "    }\n",
       "</style>\n",
       "<table border=\"1\" class=\"dataframe\">\n",
       "  <thead>\n",
       "    <tr style=\"text-align: right;\">\n",
       "      <th></th>\n",
       "      <th>Gelir</th>\n",
       "      <th>Nüfus</th>\n",
       "      <th>Kişi Başına</th>\n",
       "      <th>KITA</th>\n",
       "    </tr>\n",
       "    <tr>\n",
       "      <th>Ülke</th>\n",
       "      <th></th>\n",
       "      <th></th>\n",
       "      <th></th>\n",
       "      <th></th>\n",
       "    </tr>\n",
       "  </thead>\n",
       "  <tbody>\n",
       "    <tr>\n",
       "      <th>ABD</th>\n",
       "      <td>20410000</td>\n",
       "      <td>323,766</td>\n",
       "      <td>63039</td>\n",
       "      <td>Kuzey Amerika</td>\n",
       "    </tr>\n",
       "    <tr>\n",
       "      <th>Çin</th>\n",
       "      <td>14090000</td>\n",
       "      <td>1415,045</td>\n",
       "      <td>9957</td>\n",
       "      <td>Asya</td>\n",
       "    </tr>\n",
       "    <tr>\n",
       "      <th>Japonya</th>\n",
       "      <td>5170000</td>\n",
       "      <td>127,185</td>\n",
       "      <td>40649</td>\n",
       "      <td>Asya</td>\n",
       "    </tr>\n",
       "    <tr>\n",
       "      <th>Almanya</th>\n",
       "      <td>4210000</td>\n",
       "      <td>82,293</td>\n",
       "      <td>51158</td>\n",
       "      <td>Avrupa</td>\n",
       "    </tr>\n",
       "    <tr>\n",
       "      <th>İngiltere</th>\n",
       "      <td>2940000</td>\n",
       "      <td>66,573</td>\n",
       "      <td>44162</td>\n",
       "      <td>Avrupa</td>\n",
       "    </tr>\n",
       "    <tr>\n",
       "      <th>Fransa</th>\n",
       "      <td>2930000</td>\n",
       "      <td>65,233</td>\n",
       "      <td>44915</td>\n",
       "      <td>Avrupa</td>\n",
       "    </tr>\n",
       "    <tr>\n",
       "      <th>Hindistan</th>\n",
       "      <td>2850000</td>\n",
       "      <td>1354,051</td>\n",
       "      <td>2104</td>\n",
       "      <td>Asya</td>\n",
       "    </tr>\n",
       "    <tr>\n",
       "      <th>İtalya</th>\n",
       "      <td>2180000</td>\n",
       "      <td>59,29</td>\n",
       "      <td>36768</td>\n",
       "      <td>Avrupa</td>\n",
       "    </tr>\n",
       "    <tr>\n",
       "      <th>Brezilya</th>\n",
       "      <td>2140000</td>\n",
       "      <td>210,867</td>\n",
       "      <td>10148</td>\n",
       "      <td>Güney Amerika</td>\n",
       "    </tr>\n",
       "    <tr>\n",
       "      <th>Kanada</th>\n",
       "      <td>1800000</td>\n",
       "      <td>36,953</td>\n",
       "      <td>48710</td>\n",
       "      <td>Kuzey Amerika</td>\n",
       "    </tr>\n",
       "    <tr>\n",
       "      <th>Rusya</th>\n",
       "      <td>1720000</td>\n",
       "      <td>143,967</td>\n",
       "      <td>11947</td>\n",
       "      <td>Avrupa</td>\n",
       "    </tr>\n",
       "    <tr>\n",
       "      <th>GÜney Kore</th>\n",
       "      <td>1690000</td>\n",
       "      <td>51,164</td>\n",
       "      <td>33031</td>\n",
       "      <td>Asya</td>\n",
       "    </tr>\n",
       "    <tr>\n",
       "      <th>İspanya</th>\n",
       "      <td>1510000</td>\n",
       "      <td>46,397</td>\n",
       "      <td>32545</td>\n",
       "      <td>Avrupa</td>\n",
       "    </tr>\n",
       "    <tr>\n",
       "      <th>Avusturalya</th>\n",
       "      <td>1500000</td>\n",
       "      <td>24,772</td>\n",
       "      <td>60552</td>\n",
       "      <td>Okyanusya</td>\n",
       "    </tr>\n",
       "    <tr>\n",
       "      <th>Meksika</th>\n",
       "      <td>1210000</td>\n",
       "      <td>130,759</td>\n",
       "      <td>9253</td>\n",
       "      <td>Kuzey Amerika</td>\n",
       "    </tr>\n",
       "    <tr>\n",
       "      <th>Endonezya</th>\n",
       "      <td>1070000</td>\n",
       "      <td>266,794</td>\n",
       "      <td>4010</td>\n",
       "      <td>Asya</td>\n",
       "    </tr>\n",
       "    <tr>\n",
       "      <th>Hollanda</th>\n",
       "      <td>945000</td>\n",
       "      <td>17,084</td>\n",
       "      <td>55314</td>\n",
       "      <td>Avrupa</td>\n",
       "    </tr>\n",
       "    <tr>\n",
       "      <th>Türkiye</th>\n",
       "      <td>910000</td>\n",
       "      <td>81,916</td>\n",
       "      <td>11108</td>\n",
       "      <td>Asya</td>\n",
       "    </tr>\n",
       "    <tr>\n",
       "      <th>Suudi Arabistan</th>\n",
       "      <td>748000</td>\n",
       "      <td>33,554</td>\n",
       "      <td>22292</td>\n",
       "      <td>Asya</td>\n",
       "    </tr>\n",
       "    <tr>\n",
       "      <th>İsviçre</th>\n",
       "      <td>741000</td>\n",
       "      <td>8,554</td>\n",
       "      <td>86626</td>\n",
       "      <td>Avrupa</td>\n",
       "    </tr>\n",
       "  </tbody>\n",
       "</table>\n",
       "</div>"
      ],
      "text/plain": [
       "                    Gelir     Nüfus  Kişi Başına           KITA\n",
       "Ülke                                                           \n",
       "ABD              20410000   323,766        63039  Kuzey Amerika\n",
       "Çin              14090000  1415,045         9957           Asya\n",
       "Japonya           5170000   127,185        40649           Asya\n",
       "Almanya           4210000    82,293        51158         Avrupa\n",
       "İngiltere         2940000    66,573        44162         Avrupa\n",
       "Fransa            2930000    65,233        44915         Avrupa\n",
       "Hindistan         2850000  1354,051         2104           Asya\n",
       "İtalya            2180000     59,29        36768         Avrupa\n",
       "Brezilya          2140000   210,867        10148  Güney Amerika\n",
       "Kanada            1800000    36,953        48710  Kuzey Amerika\n",
       "Rusya             1720000   143,967        11947         Avrupa\n",
       "GÜney Kore        1690000    51,164        33031           Asya\n",
       "İspanya           1510000    46,397        32545         Avrupa\n",
       "Avusturalya       1500000    24,772        60552      Okyanusya\n",
       "Meksika           1210000   130,759         9253  Kuzey Amerika\n",
       "Endonezya         1070000   266,794         4010           Asya\n",
       "Hollanda           945000    17,084        55314         Avrupa\n",
       "Türkiye            910000    81,916        11108           Asya\n",
       "Suudi Arabistan    748000    33,554        22292           Asya\n",
       "İsviçre            741000     8,554        86626         Avrupa"
      ]
     },
     "execution_count": 68,
     "metadata": {},
     "output_type": "execute_result"
    }
   ],
   "source": [
    "country=pd.read_csv(\"./pandas/dunya.csv\",index_col=\"Ülke\")\n",
    "country"
   ]
  }
 ],
 "metadata": {
  "kernelspec": {
   "display_name": "Python 3",
   "language": "python",
   "name": "python3"
  },
  "language_info": {
   "codemirror_mode": {
    "name": "ipython",
    "version": 3
   },
   "file_extension": ".py",
   "mimetype": "text/x-python",
   "name": "python",
   "nbconvert_exporter": "python",
   "pygments_lexer": "ipython3",
   "version": "3.11.5"
  },
  "orig_nbformat": 4
 },
 "nbformat": 4,
 "nbformat_minor": 2
}
